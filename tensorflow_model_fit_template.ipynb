{
  "nbformat": 4,
  "nbformat_minor": 0,
  "metadata": {
    "colab": {
      "name": "tensorflow_model_fit_template.ipynb",
      "provenance": []
    },
    "kernelspec": {
      "name": "python3",
      "display_name": "Python 3"
    },
    "language_info": {
      "name": "python"
    }
  },
  "cells": [
    {
      "cell_type": "markdown",
      "source": [
        "This is a google colab notebook that shows how to run a simple model fit between a given input or feature list and a given output or label list.\n",
        "\n",
        "It's recommended that this file can be opened with Google Colab because then it requires no tensorflow/library installation. With that said, let's dive right into it.\n",
        "\n",
        "First we load are necessary libraries as follows"
      ],
      "metadata": {
        "id": "bOykZH8YPLR5"
      }
    },
    {
      "cell_type": "code",
      "execution_count": 1,
      "metadata": {
        "id": "MdIpyrlgPBjQ"
      },
      "outputs": [],
      "source": [
        "import tensorflow as tf\n",
        "import numpy as np\n",
        "import logging\n",
        "logger = tf.get_logger() # These two lines simply tells the system to only display errors\n",
        "logger.setLevel(logging.ERROR)"
      ]
    },
    {
      "cell_type": "markdown",
      "source": [
        "Now we can collect input from the user. This script is meant as a low level example to understand tensorflow basics so doesnt intend to work with large datasets however the implementation would be no different. "
      ],
      "metadata": {
        "id": "mln5xf0GPKKu"
      }
    },
    {
      "cell_type": "code",
      "source": [
        "feature_list = []\n",
        "n = int(input('Enter number of feature-label pairs available:'))\n"
      ],
      "metadata": {
        "colab": {
          "base_uri": "https://localhost:8080/"
        },
        "id": "49zmmAqFQhbi",
        "outputId": "273b9c5c-f2c2-4f20-acab-f085ce6fb458"
      },
      "execution_count": 2,
      "outputs": [
        {
          "name": "stdout",
          "output_type": "stream",
          "text": [
            "Enter number of feature-label pairs available:5\n"
          ]
        }
      ]
    },
    {
      "cell_type": "code",
      "source": [
        "for i in range(0, n):\n",
        "  ele = int(input())\n",
        "  feature_list.append(ele)\n",
        "#print(\"{} is the feature list\".format(feature_list))"
      ],
      "metadata": {
        "colab": {
          "base_uri": "https://localhost:8080/"
        },
        "id": "NI0JgPsURcIB",
        "outputId": "2251ea26-1839-4dd5-d45d-7124eca3c360"
      },
      "execution_count": 3,
      "outputs": [
        {
          "output_type": "stream",
          "name": "stdout",
          "text": [
            "1\n",
            "2\n",
            "3\n",
            "4\n",
            "5\n",
            "[1, 2, 3, 4, 5] is the feature list\n"
          ]
        }
      ]
    },
    {
      "cell_type": "markdown",
      "source": [
        "Now we do the same to collect labels/outputs"
      ],
      "metadata": {
        "id": "9cJ0qpNxR0S1"
      }
    },
    {
      "cell_type": "code",
      "source": [
        "print(\"Enter outputs/labels in the same order\")\n",
        "label_list = []\n",
        "for i in range(0, n):\n",
        "  ele = int(input())\n",
        "  label_list.append(ele)\n",
        "#print(\"{} is the feature list\".format(label_list))\n",
        "feature_list_a = np.array(feature_list,dtype = float)\n",
        "label_list_a = np.array(label_list,dtype = float)\n",
        "for i,c in enumerate(feature_list_a):\n",
        "  print(\"Input = {} | Output = {}\".format(c,label_list_a[i]))"
      ],
      "metadata": {
        "colab": {
          "base_uri": "https://localhost:8080/"
        },
        "id": "QnuxVQFIR4l2",
        "outputId": "53adf738-3711-408b-df64-4bc29f306988"
      },
      "execution_count": 5,
      "outputs": [
        {
          "output_type": "stream",
          "name": "stdout",
          "text": [
            "Enter outputs/labels in the same order\n",
            "0\n",
            "1\n",
            "1\n",
            "2\n",
            "3\n",
            "Input = 1.0 | Output = 0.0\n",
            "Input = 2.0 | Output = 1.0\n",
            "Input = 3.0 | Output = 1.0\n",
            "Input = 4.0 | Output = 2.0\n",
            "Input = 5.0 | Output = 3.0\n"
          ]
        }
      ]
    },
    {
      "cell_type": "markdown",
      "source": [
        "Now that we have a dataset ready, we begin creating the model. We'll use the keras API to build a layer for our problem. This would be a single layer and the number of neurons and inputs is specified"
      ],
      "metadata": {
        "id": "lAcXKPltS3fl"
      }
    },
    {
      "cell_type": "code",
      "source": [
        "l0 = tf.keras.layers.Dense(units = 1, input_shape = [1])"
      ],
      "metadata": {
        "id": "c-uQie4fTZSr"
      },
      "execution_count": 6,
      "outputs": []
    },
    {
      "cell_type": "markdown",
      "source": [
        "After making the layers as above, we assemble them into a model as shown"
      ],
      "metadata": {
        "id": "on6oBiyMTj1w"
      }
    },
    {
      "cell_type": "code",
      "source": [
        "model = tf.keras.Sequential([l0]) # if using multiple layers edit this parameter as a list of layers"
      ],
      "metadata": {
        "id": "vap1hWdZTrnX"
      },
      "execution_count": 7,
      "outputs": []
    },
    {
      "cell_type": "markdown",
      "source": [
        "We then compile the model with loss and optimizer functions. Loss function allows us to measure how off are we from the given output (forward sweep) and optmizer function defines the method of how we change/tune our parameters/neurons (backward propogation). We are using mean squared error as the loss function and Adam as optimizer with learning rate 0.1 (it can be anywhere between 0.001(default) and 0.1)"
      ],
      "metadata": {
        "id": "mxgidyIbT5El"
      }
    },
    {
      "cell_type": "code",
      "source": [
        "model.compile(loss = 'mean_squared_error',\n",
        "              optimizer = tf.keras.optimizers.Adam(0.1))"
      ],
      "metadata": {
        "id": "pbQfCMUdT3ak"
      },
      "execution_count": 8,
      "outputs": []
    },
    {
      "cell_type": "markdown",
      "source": [
        "We train the model with the data we recieved in the beginning using fit method"
      ],
      "metadata": {
        "id": "WFWXXwWvUueM"
      }
    },
    {
      "cell_type": "code",
      "source": [
        "history = model.fit(feature_list_a,label_list_a,epochs=500,verbose=False)\n",
        "print(\"Model training is finished\")"
      ],
      "metadata": {
        "colab": {
          "base_uri": "https://localhost:8080/"
        },
        "id": "OSk6T-nzU1jc",
        "outputId": "85408c88-1016-45b8-d80e-917f367c08ba"
      },
      "execution_count": 9,
      "outputs": [
        {
          "output_type": "stream",
          "name": "stdout",
          "text": [
            "Model training is complete\n"
          ]
        }
      ]
    },
    {
      "cell_type": "markdown",
      "source": [
        "We can display training statistics using matplotlib"
      ],
      "metadata": {
        "id": "Al3kXDgAVKBX"
      }
    },
    {
      "cell_type": "code",
      "source": [
        "import matplotlib.pyplot as plt\n",
        "plt.xlabel('Epoch number')\n",
        "plt.ylabel('Loss Magnitude')\n",
        "plt.plot(history.history['loss'])"
      ],
      "metadata": {
        "colab": {
          "base_uri": "https://localhost:8080/",
          "height": 296
        },
        "id": "o5Z-rEDfVPk8",
        "outputId": "ae0c0048-dcfe-43c6-d43a-3cee79210d30"
      },
      "execution_count": 10,
      "outputs": [
        {
          "output_type": "execute_result",
          "data": {
            "text/plain": [
              "[<matplotlib.lines.Line2D at 0x7efcd1cd21d0>]"
            ]
          },
          "metadata": {},
          "execution_count": 10
        },
        {
          "output_type": "display_data",
          "data": {
            "image/png": "[encoded data removed]",
            "text/plain": [
              "<Figure size 432x288 with 1 Axes>"
            ]
          },
          "metadata": {
            "needs_background": "light"
          }
        }
      ]
    },
    {
      "cell_type": "markdown",
      "source": [
        "Now lets try to predict output by getting an input from the user"
      ],
      "metadata": {
        "id": "Jnz9xAgTVe_Z"
      }
    },
    {
      "cell_type": "code",
      "source": [
        "testinput = int(input('Enter a number as an input for the model:'))\n",
        "print(\"{} is the predicted output\".format(model.predict([testinput])))"
      ],
      "metadata": {
        "colab": {
          "base_uri": "https://localhost:8080/"
        },
        "id": "2gT2Wk24Vkfx",
        "outputId": "f1b49edb-698f-40c3-e8b6-b116f2f89b47"
      },
      "execution_count": 11,
      "outputs": [
        {
          "output_type": "stream",
          "name": "stdout",
          "text": [
            "Enter a number as an input for the model:3\n",
            "[[1.4000309]] is the predicted output\n"
          ]
        }
      ]
    },
    {
      "cell_type": "markdown",
      "source": [
        "To look at the trained model's layer weights we can do"
      ],
      "metadata": {
        "id": "IZeaerm9WDEO"
      }
    },
    {
      "cell_type": "code",
      "execution_count": 12,
      "metadata": {
        "id": "kmIkVdkbnZJI",
        "colab": {
          "base_uri": "https://localhost:8080/"
        },
        "outputId": "1bd17c62-1a8e-4e8b-ff2c-9dc3c158b546"
      },
      "outputs": [
        {
          "output_type": "stream",
          "name": "stdout",
          "text": [
            "These are the layer variables: [array([[0.6999372]], dtype=float32), array([-0.6997807], dtype=float32)]\n"
          ]
        }
      ],
      "source": [
        "print(\"These are the layer variables: {}\".format(l0.get_weights()))"
      ]
    }
  ]
}